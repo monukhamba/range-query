{
 "cells": [
  {
   "cell_type": "code",
   "execution_count": null,
   "metadata": {
    "collapsed": true
   },
   "outputs": [],
   "source": [
    "def maxprofit(arr):\n",
    "    max_so_far = 0\n",
    "    curr_max = 0\n",
    "    size = len(arr)\n",
    "    start, end, s = 0,0,0\n",
    "    for i in range(1, size):\n",
    "        curr_max += arr[i]\n",
    "        if curr_max > max_so_far:\n",
    "            max_so_far = curr_max\n",
    "            start = s\n",
    "            end = i\n",
    "        if curr_max < 0:\n",
    "            curr_max = 0\n",
    "            s =i+1\n",
    "        \n",
    "       \n",
    "    print(start, end)\n",
    "    return max_so_far \n",
    "    \n",
    "\n",
    "            "
   ]
  },
  {
   "cell_type": "code",
   "execution_count": null,
   "metadata": {
    "collapsed": true
   },
   "outputs": [],
   "source": [
    "def mostcommon(list):\n",
    "    count = {}\n",
    "    for i in list:\n",
    "        if i in count:\n",
    "            count[i] +=1\n",
    "        else:\n",
    "            count[i] = 1\n",
    "    return sorted(count, key = count.get, reverse = True) \n"
   ]
  },
  {
   "cell_type": "code",
   "execution_count": null,
   "metadata": {
    "collapsed": true
   },
   "outputs": [],
   "source": [
    "a = mostcommon([1,2,53,2,3442,2])\n",
    "a[:2]\n",
    "            "
   ]
  },
  {
   "cell_type": "code",
   "execution_count": null,
   "metadata": {
    "collapsed": true
   },
   "outputs": [],
   "source": [
    "arr = [-2, -3, 4, -1, -2, 1, 5]\n",
    "maxprofit(arr)\n"
   ]
  },
  {
   "cell_type": "code",
   "execution_count": null,
   "metadata": {
    "collapsed": true
   },
   "outputs": [],
   "source": [
    "def zeroSumSubarray(arr):\n",
    "    buff = {}\n",
    "    sum1 = 0\n",
    "    max_len = 0, 0 \n",
    "    for i  in range(len(arr)):\n",
    "        sum1 += arr[i]\n",
    "        \n",
    "        if arr[i] is 0 and max_len is 0:\n",
    "            max_len = 1\n",
    "        if sum1 is 0:\n",
    "            max_len = i+1\n",
    "        \n",
    "        if sum1 in buff:\n",
    "            max_len = max(max_len, int(i - buff[sum1])\n",
    "        else:\n",
    "            buff[sum1] = i\n",
    "           \n",
    "            \n",
    "    return  max_len\n",
    "\n",
    "\n",
    "\n",
    "\n"
   ]
  },
  {
   "cell_type": "code",
   "execution_count": null,
   "metadata": {
    "collapsed": true
   },
   "outputs": [],
   "source": [
    "a = [4, 2, -3, 1, 6]\n",
    "zeroSumSubarray(a)\n"
   ]
  },
  {
   "cell_type": "code",
   "execution_count": null,
   "metadata": {
    "collapsed": true
   },
   "outputs": [],
   "source": [
    "def parChecker(string):\n",
    "    stack = []\n",
    "    balanced = True\n",
    "    index = 0\n",
    "    while index<len(string) and balanced:\n",
    "        symbol = string[index]\n",
    "        if symbol in  \"([{\":\n",
    "            stack.append(symbol)\n",
    "            \n",
    "        else:\n",
    "            if stack == []:\n",
    "                balanced = False\n",
    "            else:\n",
    "                top = stack.pop()\n",
    "               \n",
    "                if not matches(top,symbol):\n",
    "                       balanced = False\n",
    "                \n",
    "        index= index+1\n",
    "    print(stack)        \n",
    "    if balanced  and  stack==[]:\n",
    "        return True\n",
    "    else:\n",
    "        return False\n",
    "def matches(open,close):\n",
    "    opens = \"([{\"\n",
    "    closers = \")]}\"\n",
    "    return opens.index(open) == closers.index(close)\n",
    "\n",
    "print(parChecker(\"{{()}()}\"))"
   ]
  },
  {
   "cell_type": "code",
   "execution_count": null,
   "metadata": {
    "collapsed": true
   },
   "outputs": [],
   "source": [
    "def uniqueStr(s1,s2):\n",
    "    map= {}\n",
    "    for c in s1:\n",
    "        if c in map:\n",
    "            map[c] +=1\n",
    "        else:\n",
    "            map[c] = 1\n",
    "    for c in s2:\n",
    "        if c in map:\n",
    "            map[c] += 1\n",
    "        else:\n",
    "            map[c]=1\n",
    "    res = [k for k,v in map.items() if v ==1]\n",
    "    print(\"\".join(res))\n",
    "    \n",
    "str1 = \"abdc23$%123\"  \n",
    "str2 = \"frged456*7adb43\"\n",
    " \n",
    "uniqueStr(str1, str2)            "
   ]
  },
  {
   "cell_type": "code",
   "execution_count": null,
   "metadata": {
    "collapsed": true
   },
   "outputs": [],
   "source": [
    "from collections import deque\n",
    "class Tree:\n",
    "    def __init__(self,root):\n",
    "        self.data = root\n",
    "        self.left = None\n",
    "        self.right = None\n",
    "        \n",
    "\n",
    "def BFSTree(root):\n",
    "    T = Tree()\n",
    "    q = []\n",
    "    if not root:\n",
    "        return NULL\n",
    "    q.append(root)\n",
    "    while q:\n",
    "        temp = q.pop()\n",
    "        print tmp.val\n",
    "        if temp.left:\n",
    "            q.append(tmp.left)\n",
    "        if tmp.right:\n",
    "            q.append(temp.right)\n",
    "\n",
    "def LevelOrder(root):\n",
    "    h =height(root)\n",
    "    for i in range(1, h+1):\n",
    "        printLevel(root,i)\n",
    "def printLevel(root, level):\n",
    "    if root is None:\n",
    "        return\n",
    "    if level == 1:\n",
    "        print(root.data)\n",
    "    elif level>1:\n",
    "        printLevel(root.left,level-1)\n",
    "        printLevel(root.right,level-1)\n",
    "    \n",
    "def height(node):\n",
    "    if node is None:\n",
    "        return 0\n",
    "    else:\n",
    "        lh = height(node.left)\n",
    "        rh = height(node.right)\n",
    "        \n",
    "        if lh>rh:\n",
    "            return lh+1\n",
    "        else:\n",
    "            return rh+1\n",
    "            \n",
    "            \n",
    "    \n",
    "    "
   ]
  },
  {
   "cell_type": "code",
   "execution_count": null,
   "metadata": {
    "collapsed": true,
    "scrolled": true
   },
   "outputs": [],
   "source": [
    "\n",
    "\n"
   ]
  },
  {
   "cell_type": "code",
   "execution_count": null,
   "metadata": {
    "collapsed": true
   },
   "outputs": [],
   "source": [
    "def searchEleminSortRotatedArr(a,elem):\n",
    "    left, right =0, len(a)-1\n",
    "    while left<=right:\n",
    "        mid = int(left+(right-left)/2)\n",
    "        print(mid), print(\"mid\")\n",
    "        if a[mid]==elem:\n",
    "            return mid\n",
    "        elif a[mid]==a[left]:\n",
    "            left +=1\n",
    "        elif (a[mid]>a[left] and a[left]<=elem<a[mid]) or (a[mid] < a[left] and not (a[left]<mid<=a[right])):\n",
    "                right = mid+1\n",
    "        else:\n",
    "            left = mid+1\n",
    "            print(left)\n",
    "    return -1    \n",
    "\n",
    "arr = [6,7,8,1,2,3]\n",
    "searchEleminSortRotatedArr(arr, 3)"
   ]
  },
  {
   "cell_type": "code",
   "execution_count": null,
   "metadata": {
    "collapsed": true
   },
   "outputs": [],
   "source": [
    "\n",
    "class TreeNode(object):\n",
    "    def __init__(self, x):\n",
    "        self.val = x\n",
    "        self.left = None\n",
    "        self.right = None\n",
    "        \n",
    "def serializeBT(self,root):\n",
    "    \n",
    "    def ser(node):\n",
    "        if node:\n",
    "            vals.append(str(node.val))\n",
    "            ser(node.left)\n",
    "            ser(node.right)\n",
    "        else:\n",
    "            vals.append(\"#\")\n",
    "    vals =[]        \n",
    "    ser(root)        \n",
    "    return ' '.join(vals)\n",
    "\n",
    "def deserialize(data):\n",
    "    def des():\n",
    "        vals = next(vals)\n",
    "        if vals == \"#\":\n",
    "            return None\n",
    "        node =TreeNode(int(val))\n",
    "        node.left = des()\n",
    "        node.right =des()\n",
    "        return node\n",
    "    vals =iter(data.split())\n",
    "    return des\n",
    "\n",
    "\n",
    "n = TreeNode(2)\n",
    "\n",
    "data = \"1,2,3,null,null,4,5\"\n",
    "deserialize(serializeBT(n))\n",
    "\n",
    "\n"
   ]
  },
  {
   "cell_type": "code",
   "execution_count": null,
   "metadata": {
    "collapsed": true
   },
   "outputs": [],
   "source": []
  },
  {
   "cell_type": "code",
   "execution_count": 55,
   "metadata": {},
   "outputs": [
    {
     "name": "stdout",
     "output_type": "stream",
     "text": [
      "5\n"
     ]
    }
   ],
   "source": [
    "def longestIncSub(arr, n):\n",
    "   \n",
    "    max_ending_here = 1\n",
    "    # LIS array , using DP\n",
    "    lis = [1]*n\n",
    "    for i in range(1, n):\n",
    "        for j in range(0,i):\n",
    "            if arr[i]>arr[j] and lis[i] < lis[j]+1:\n",
    "                lis[i] =lis[j]+1\n",
    "    maximum = 0\n",
    "    for i in range(n):\n",
    "        maximum = max(maximum, lis[i])\n",
    "    return maximum\n",
    "arr = [10, 22, 9, 33, 21, 50, 41, 60]\n",
    "print(longestIncSub(arr,8))\n",
    "        "
   ]
  },
  {
   "cell_type": "code",
   "execution_count": 66,
   "metadata": {},
   "outputs": [
    {
     "name": "stdout",
     "output_type": "stream",
     "text": [
      "3\n"
     ]
    },
    {
     "data": {
      "text/plain": [
       "4"
      ]
     },
     "execution_count": 66,
     "metadata": {},
     "output_type": "execute_result"
    }
   ],
   "source": [
    "##convert string1 to string 2 wiht minimum steps\n",
    "\n",
    "def convert(s1,s2,m,n):\n",
    "    \n",
    "    \n",
    "    if m==0:\n",
    "        return n\n",
    "    if n==0:\n",
    "        return m\n",
    "    \n",
    "    if s1[m-1]==s2[n-1]:\n",
    "        return convert(s1,s2,m-1,n-1)\n",
    "    \n",
    "    return 1+min(convert(s1,s2,m,n-1),\n",
    "                convert(s1,s2,m-1,n),\n",
    "                convert(s1,s2,m-1,n-1))\n",
    "\n",
    "\n",
    "\n",
    "\n",
    "def DPconvert(s1,s2,m,n):\n",
    "    dp =[[0 for x in range(n+1)] for x in range(m+1)]\n",
    "    for i in range(m+1):\n",
    "        for j in range(n+1):\n",
    "            if i == 0:\n",
    "                dp[i][j] =j\n",
    "            elif j==0:\n",
    "                dp[i][j] = i\n",
    "            elif s1[i-1] ==s2[j-1]:\n",
    "                dp[i][j] = dp[i-1][j-1]\n",
    "            \n",
    "            else:\n",
    "                dp[i][j] = 1+min(dp[i][j-1],dp[i-1][j],dp[i-1][j-1] )\n",
    "    return dp[m][n]  \n",
    "\n",
    "print(convert(\"ascsds\",\"asassa\",6,6))\n",
    "DPconvert(\"asasaca\",\"asdc\", 7,4)\n",
    "                "
   ]
  },
  {
   "cell_type": "code",
   "execution_count": 71,
   "metadata": {},
   "outputs": [
    {
     "data": {
      "text/plain": [
       "{}"
      ]
     },
     "execution_count": 71,
     "metadata": {},
     "output_type": "execute_result"
    }
   ],
   "source": [
    "import os, sys\n",
    "import hashlib\n",
    " \n",
    "def findDup(parentFolder):\n",
    "    # Dups in format {hash:[names]}\n",
    "    dups = {}\n",
    "    for dirName, subdirs, fileList in os.walk(parentFolder):\n",
    "        print('Scanning %s...' % dirName)\n",
    "        for filename in fileList:\n",
    "            # Get the path to the file\n",
    "            path = os.path.join(dirName, filename)\n",
    "            # Calculate hash\n",
    "            file_hash = hashfile(path)\n",
    "            # Add or append the file path\n",
    "            if file_hash in dups:\n",
    "                dups[file_hash].append(path)\n",
    "            else:\n",
    "                dups[file_hash] = [path]\n",
    "    return dups\n",
    " \n",
    " \n",
    "# Joins two dictionaries\n",
    "def joinDicts(dict1, dict2):\n",
    "    for key in dict2.keys():\n",
    "        if key in dict1:\n",
    "            dict1[key] = dict1[key] + dict2[key]\n",
    "        else:\n",
    "            dict1[key] = dict2[key]\n",
    " \n",
    " \n",
    "def hashfile(path, blocksize = 65536):\n",
    "    afile = open(path, 'rb')\n",
    "    hasher = hashlib.md5()\n",
    "    buf = afile.read(blocksize)\n",
    "    while len(buf) > 0:\n",
    "        hasher.update(buf)\n",
    "        buf = afile.read(blocksize)\n",
    "    afile.close()\n",
    "    return hasher.hexdigest()\n",
    " \n",
    " \n",
    "def printResults(dict1):\n",
    "    results = list(filter(lambda x: len(x) > 1, dict1.values()))\n",
    "    print(results)\n",
    " \n",
    " \n",
    "\n",
    "findDup(\"~/Documents/\")        "
   ]
  },
  {
   "cell_type": "code",
   "execution_count": 11,
   "metadata": {},
   "outputs": [],
   "source": [
    "class Node:\n",
    "     \n",
    "    # Constructor to create a new tree node\n",
    "    def __init__(self, key):\n",
    "        self.key = key \n",
    "        self.left = None\n",
    "        self.right = None\n",
    "\n",
    "def LCABinarytree(root,n1,n2):\n",
    "    \n",
    "    if root is None:\n",
    "        return None\n",
    "    \n",
    "    if root.key==n1 and root.key==n2:\n",
    "        return root\n",
    "    \n",
    "    left_lca = LCABinarytree(root.left,n1,n2)\n",
    "    right_lca = LCABinarytree(root.right,n1,n2)\n",
    "    \n",
    "    if left_lca and right_lca:\n",
    "        return root\n",
    "    \n",
    "    return left_lca if left_lca is not None else right_lca\n",
    "\n",
    "\n",
    "\n",
    "root = Node(1)\n",
    "root.left = Node(2)\n",
    "root.right = Node(3)\n",
    "root.left.left = Node(4)\n",
    "root.left.right = Node(5)\n",
    "root.right.left = Node(6)\n",
    "root.right.right = Node(7)    \n",
    "\n",
    "##LCABinarytree(root,2,4).key\n",
    "    \n",
    "    "
   ]
  }
 ],
 "metadata": {
  "kernelspec": {
   "display_name": "Python 3",
   "language": "python",
   "name": "python3"
  },
  "language_info": {
   "codemirror_mode": {
    "name": "ipython",
    "version": 3
   },
   "file_extension": ".py",
   "mimetype": "text/x-python",
   "name": "python",
   "nbconvert_exporter": "python",
   "pygments_lexer": "ipython3",
   "version": "3.5.2"
  }
 },
 "nbformat": 4,
 "nbformat_minor": 2
}
